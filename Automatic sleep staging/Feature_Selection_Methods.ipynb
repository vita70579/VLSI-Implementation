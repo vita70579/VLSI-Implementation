{
 "cells": [
  {
   "cell_type": "code",
   "execution_count": 1,
   "metadata": {},
   "outputs": [
    {
     "name": "stderr",
     "output_type": "stream",
     "text": [
      "C:\\Users\\vita7\\Anaconda3\\lib\\site-packages\\sklearn\\externals\\joblib\\__init__.py:15: DeprecationWarning: sklearn.externals.joblib is deprecated in 0.21 and will be removed in 0.23. Please import this functionality directly from joblib, which can be installed with: pip install joblib. If this warning is raised when loading pickled models, you may need to re-serialize those models with scikit-learn 0.21+.\n",
      "  warnings.warn(msg, category=DeprecationWarning)\n"
     ]
    }
   ],
   "source": [
    "%run Package_AND_Parameter.ipynb"
   ]
  },
  {
   "cell_type": "code",
   "execution_count": 2,
   "metadata": {},
   "outputs": [],
   "source": [
    "def Kruskal_Wallis_Selection_Method(data,label, condition=23):\n",
    "\n",
    "    pvList = []\n",
    "    for col in range(data.shape[1]):\n",
    "        _, pv = stats.kruskal(data[np.where(label == 0)][col],\n",
    "                              data[np.where(label == 1)][col],\n",
    "                              data[np.where(label == 2)][col],\n",
    "                              data[np.where(label == 3)][col],\n",
    "                              data[np.where(label == 4)][col])\n",
    "        pvList.append(pv)\n",
    "\n",
    "    idx = np.argsort(pvList)[:condition]\n",
    "    print(len(idx))\n",
    "\n",
    "    return idx,pvList\n",
    "\n",
    "\n",
    "def L1_Selection_Method(data, penalty=0.025):\n",
    "\n",
    "    L1_Reg = Lasso(alpha=0.025)\n",
    "    L1_Reg.fit(trX, trY)\n",
    "    temp = L1_Reg.coef_\n",
    "\n",
    "    idx = list(np.where((temp != 0) | (temp != -0))[-1])\n",
    "    print(len(idx))\n",
    "\n",
    "    return idx"
   ]
  }
 ],
 "metadata": {
  "kernelspec": {
   "display_name": "Python 3",
   "language": "python",
   "name": "python3"
  },
  "language_info": {
   "codemirror_mode": {
    "name": "ipython",
    "version": 3
   },
   "file_extension": ".py",
   "mimetype": "text/x-python",
   "name": "python",
   "nbconvert_exporter": "python",
   "pygments_lexer": "ipython3",
   "version": "3.7.4"
  }
 },
 "nbformat": 4,
 "nbformat_minor": 2
}
