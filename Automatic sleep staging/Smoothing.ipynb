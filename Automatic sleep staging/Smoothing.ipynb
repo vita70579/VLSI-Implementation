{
 "cells": [
  {
   "cell_type": "code",
   "execution_count": 12,
   "metadata": {},
   "outputs": [],
   "source": [
    "%run Package_AND_Parameter.ipynb"
   ]
  },
  {
   "cell_type": "code",
   "execution_count": 13,
   "metadata": {},
   "outputs": [],
   "source": [
    "def smoothing(estimator, score, n, label):\n",
    "\n",
    "    new_sc = [\n",
    "        sum(score[i:i + smoothing_factor])\n",
    "        for i in range(0, n, smoothing_factor)\n",
    "    ]\n",
    "    new_lab = [label[i] for i in range(0, n, smoothing_factor)]\n",
    "\n",
    "    return np.argmax(new_sc, axis=1), np.array(new_lab), np.array(new_sc)\n",
    "\n",
    "def smoothingII(data, thr=0.5, winlength=3, max_winlength=7):\n",
    "    def windowing(wl, p):\n",
    "        left_win = right_win = winlength // 2\n",
    "        if (pointer - left_win < 0):\n",
    "            left_win = pointer\n",
    "            right_win = pointer\n",
    "        elif (pointer + right_win > (len(data) + 1)):\n",
    "            right_win = len(data) - pointer\n",
    "            left_win = len(data) - pointer\n",
    "        mode = stats.mode(data[(pointer - left_win):(pointer + right_win)])\n",
    "        return mode[0][0], mode[1][0]\n",
    "\n",
    "    for pointer in range(1, len(data)):\n",
    "\n",
    "        m, c = windowing(wl=winlength, p=pointer)\n",
    "        while ((c < thr * winlength) and winlength < max_winlength):\n",
    "            winlength += 2\n",
    "            m, c = windowing(wl=winlength, p=pointer)\n",
    "\n",
    "        if ((data[pointer] != m) and (c > thr * winlength)):\n",
    "            data[pointer] = m\n",
    "\n",
    "    return data"
   ]
  }
 ],
 "metadata": {
  "kernelspec": {
   "display_name": "Python 3",
   "language": "python",
   "name": "python3"
  },
  "language_info": {
   "codemirror_mode": {
    "name": "ipython",
    "version": 3
   },
   "file_extension": ".py",
   "mimetype": "text/x-python",
   "name": "python",
   "nbconvert_exporter": "python",
   "pygments_lexer": "ipython3",
   "version": "3.7.4"
  }
 },
 "nbformat": 4,
 "nbformat_minor": 2
}
