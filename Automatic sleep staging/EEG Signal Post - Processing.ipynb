{
 "cells": [
  {
   "cell_type": "code",
   "execution_count": 1,
   "metadata": {},
   "outputs": [
    {
     "name": "stderr",
     "output_type": "stream",
     "text": [
      "C:\\Users\\vita7\\Anaconda3\\lib\\site-packages\\sklearn\\externals\\joblib\\__init__.py:15: DeprecationWarning: sklearn.externals.joblib is deprecated in 0.21 and will be removed in 0.23. Please import this functionality directly from joblib, which can be installed with: pip install joblib. If this warning is raised when loading pickled models, you may need to re-serialize those models with scikit-learn 0.21+.\n",
      "  warnings.warn(msg, category=DeprecationWarning)\n"
     ]
    }
   ],
   "source": [
    "%run Package_AND_Parameter.ipynb\n",
    "%run Feature_Selection_Methods.ipynb\n",
    "%run Smoothing.ipynb"
   ]
  },
  {
   "cell_type": "markdown",
   "metadata": {},
   "source": [
    "# READ TRAINING DATA"
   ]
  },
  {
   "cell_type": "code",
   "execution_count": 2,
   "metadata": {},
   "outputs": [
    {
     "name": "stderr",
     "output_type": "stream",
     "text": [
      "C:\\Users\\vita7\\Anaconda3\\lib\\site-packages\\pandas\\core\\generic.py:3946: PerformanceWarning: dropping on a non-lexsorted multi-index without a level parameter may impact performance.\n",
      "  new_axis = axis.drop(labels, errors=errors)\n"
     ]
    },
    {
     "data": {
      "text/html": [
       "<div>\n",
       "<style scoped>\n",
       "    .dataframe tbody tr th:only-of-type {\n",
       "        vertical-align: middle;\n",
       "    }\n",
       "\n",
       "    .dataframe tbody tr th {\n",
       "        vertical-align: top;\n",
       "    }\n",
       "\n",
       "    .dataframe thead tr th {\n",
       "        text-align: left;\n",
       "    }\n",
       "\n",
       "    .dataframe thead tr:last-of-type th {\n",
       "        text-align: right;\n",
       "    }\n",
       "</style>\n",
       "<table border=\"1\" class=\"dataframe\">\n",
       "  <thead>\n",
       "    <tr>\n",
       "      <th>Function</th>\n",
       "      <th colspan=\"10\" halign=\"left\">Variance</th>\n",
       "      <th>...</th>\n",
       "      <th colspan=\"10\" halign=\"left\">First-order AutoCorrelation Coefficient</th>\n",
       "    </tr>\n",
       "    <tr>\n",
       "      <th>Band</th>\n",
       "      <th>EEG Fpz-Cz</th>\n",
       "      <th>EEG Fpz-Cz Delta</th>\n",
       "      <th>EEG Fpz-Cz Theta</th>\n",
       "      <th>EEG Fpz-Cz Alpha</th>\n",
       "      <th>EEG Fpz-Cz Sigma</th>\n",
       "      <th>EEG Fpz-Cz Beta</th>\n",
       "      <th>EEG Fpz-Cz DOR</th>\n",
       "      <th>EEG Fpz-Cz TOR</th>\n",
       "      <th>EEG Fpz-Cz AOR</th>\n",
       "      <th>EEG Fpz-Cz SOR</th>\n",
       "      <th>...</th>\n",
       "      <th>EEG Fpz-Cz TDR</th>\n",
       "      <th>EEG Fpz-Cz ADR</th>\n",
       "      <th>EEG Fpz-Cz SDR</th>\n",
       "      <th>EEG Fpz-Cz BDR</th>\n",
       "      <th>EEG Fpz-Cz ATR</th>\n",
       "      <th>EEG Fpz-Cz STR</th>\n",
       "      <th>EEG Fpz-Cz BTR</th>\n",
       "      <th>EEG Fpz-Cz SAR</th>\n",
       "      <th>EEG Fpz-Cz BAR</th>\n",
       "      <th>EEG Fpz-Cz BSR</th>\n",
       "    </tr>\n",
       "    <tr>\n",
       "      <th>epoch</th>\n",
       "      <th></th>\n",
       "      <th></th>\n",
       "      <th></th>\n",
       "      <th></th>\n",
       "      <th></th>\n",
       "      <th></th>\n",
       "      <th></th>\n",
       "      <th></th>\n",
       "      <th></th>\n",
       "      <th></th>\n",
       "      <th></th>\n",
       "      <th></th>\n",
       "      <th></th>\n",
       "      <th></th>\n",
       "      <th></th>\n",
       "      <th></th>\n",
       "      <th></th>\n",
       "      <th></th>\n",
       "      <th></th>\n",
       "      <th></th>\n",
       "      <th></th>\n",
       "    </tr>\n",
       "  </thead>\n",
       "  <tbody>\n",
       "    <tr>\n",
       "      <td>2748</td>\n",
       "      <td>21.828373</td>\n",
       "      <td>18.494132</td>\n",
       "      <td>5.649302</td>\n",
       "      <td>2.428855</td>\n",
       "      <td>2.282368</td>\n",
       "      <td>3.455594</td>\n",
       "      <td>0.847252</td>\n",
       "      <td>0.258805</td>\n",
       "      <td>0.111271</td>\n",
       "      <td>0.104560</td>\n",
       "      <td>...</td>\n",
       "      <td>0.936464</td>\n",
       "      <td>0.816104</td>\n",
       "      <td>0.671722</td>\n",
       "      <td>0.163851</td>\n",
       "      <td>0.871474</td>\n",
       "      <td>0.717296</td>\n",
       "      <td>0.174968</td>\n",
       "      <td>0.823084</td>\n",
       "      <td>0.200773</td>\n",
       "      <td>0.243927</td>\n",
       "    </tr>\n",
       "    <tr>\n",
       "      <td>2749</td>\n",
       "      <td>23.075825</td>\n",
       "      <td>22.760025</td>\n",
       "      <td>6.918420</td>\n",
       "      <td>2.337169</td>\n",
       "      <td>2.308580</td>\n",
       "      <td>3.580158</td>\n",
       "      <td>0.986315</td>\n",
       "      <td>0.299812</td>\n",
       "      <td>0.101282</td>\n",
       "      <td>0.100043</td>\n",
       "      <td>...</td>\n",
       "      <td>0.943892</td>\n",
       "      <td>0.825764</td>\n",
       "      <td>0.640576</td>\n",
       "      <td>0.153139</td>\n",
       "      <td>0.874851</td>\n",
       "      <td>0.678654</td>\n",
       "      <td>0.162242</td>\n",
       "      <td>0.775737</td>\n",
       "      <td>0.185451</td>\n",
       "      <td>0.239064</td>\n",
       "    </tr>\n",
       "    <tr>\n",
       "      <td>2750</td>\n",
       "      <td>26.013966</td>\n",
       "      <td>23.630517</td>\n",
       "      <td>5.957379</td>\n",
       "      <td>2.165278</td>\n",
       "      <td>1.908565</td>\n",
       "      <td>3.032821</td>\n",
       "      <td>0.908378</td>\n",
       "      <td>0.229007</td>\n",
       "      <td>0.083235</td>\n",
       "      <td>0.073367</td>\n",
       "      <td>...</td>\n",
       "      <td>0.937449</td>\n",
       "      <td>0.816985</td>\n",
       "      <td>0.673169</td>\n",
       "      <td>0.154376</td>\n",
       "      <td>0.871499</td>\n",
       "      <td>0.718086</td>\n",
       "      <td>0.164676</td>\n",
       "      <td>0.823967</td>\n",
       "      <td>0.188958</td>\n",
       "      <td>0.229327</td>\n",
       "    </tr>\n",
       "    <tr>\n",
       "      <td>2751</td>\n",
       "      <td>23.904033</td>\n",
       "      <td>22.933247</td>\n",
       "      <td>5.729646</td>\n",
       "      <td>2.354991</td>\n",
       "      <td>1.925690</td>\n",
       "      <td>3.263456</td>\n",
       "      <td>0.959388</td>\n",
       "      <td>0.239694</td>\n",
       "      <td>0.098519</td>\n",
       "      <td>0.080559</td>\n",
       "      <td>...</td>\n",
       "      <td>0.942343</td>\n",
       "      <td>0.814448</td>\n",
       "      <td>0.670839</td>\n",
       "      <td>0.172064</td>\n",
       "      <td>0.864280</td>\n",
       "      <td>0.711885</td>\n",
       "      <td>0.182592</td>\n",
       "      <td>0.823673</td>\n",
       "      <td>0.211265</td>\n",
       "      <td>0.256491</td>\n",
       "    </tr>\n",
       "    <tr>\n",
       "      <td>2752</td>\n",
       "      <td>25.298234</td>\n",
       "      <td>23.799146</td>\n",
       "      <td>5.792871</td>\n",
       "      <td>2.322016</td>\n",
       "      <td>1.733728</td>\n",
       "      <td>2.915820</td>\n",
       "      <td>0.940743</td>\n",
       "      <td>0.228983</td>\n",
       "      <td>0.091786</td>\n",
       "      <td>0.068532</td>\n",
       "      <td>...</td>\n",
       "      <td>0.942638</td>\n",
       "      <td>0.822804</td>\n",
       "      <td>0.676889</td>\n",
       "      <td>0.183420</td>\n",
       "      <td>0.872874</td>\n",
       "      <td>0.718079</td>\n",
       "      <td>0.194582</td>\n",
       "      <td>0.822660</td>\n",
       "      <td>0.222921</td>\n",
       "      <td>0.270975</td>\n",
       "    </tr>\n",
       "  </tbody>\n",
       "</table>\n",
       "<p>5 rows × 252 columns</p>\n",
       "</div>"
      ],
      "text/plain": [
       "Function   Variance                                                     \\\n",
       "Band     EEG Fpz-Cz EEG Fpz-Cz Delta EEG Fpz-Cz Theta EEG Fpz-Cz Alpha   \n",
       "epoch                                                                    \n",
       "2748      21.828373        18.494132         5.649302         2.428855   \n",
       "2749      23.075825        22.760025         6.918420         2.337169   \n",
       "2750      26.013966        23.630517         5.957379         2.165278   \n",
       "2751      23.904033        22.933247         5.729646         2.354991   \n",
       "2752      25.298234        23.799146         5.792871         2.322016   \n",
       "\n",
       "Function                                                                 \\\n",
       "Band     EEG Fpz-Cz Sigma EEG Fpz-Cz Beta EEG Fpz-Cz DOR EEG Fpz-Cz TOR   \n",
       "epoch                                                                     \n",
       "2748             2.282368        3.455594       0.847252       0.258805   \n",
       "2749             2.308580        3.580158       0.986315       0.299812   \n",
       "2750             1.908565        3.032821       0.908378       0.229007   \n",
       "2751             1.925690        3.263456       0.959388       0.239694   \n",
       "2752             1.733728        2.915820       0.940743       0.228983   \n",
       "\n",
       "Function                                ...  \\\n",
       "Band     EEG Fpz-Cz AOR EEG Fpz-Cz SOR  ...   \n",
       "epoch                                   ...   \n",
       "2748           0.111271       0.104560  ...   \n",
       "2749           0.101282       0.100043  ...   \n",
       "2750           0.083235       0.073367  ...   \n",
       "2751           0.098519       0.080559  ...   \n",
       "2752           0.091786       0.068532  ...   \n",
       "\n",
       "Function First-order AutoCorrelation Coefficient                 \\\n",
       "Band                              EEG Fpz-Cz TDR EEG Fpz-Cz ADR   \n",
       "epoch                                                             \n",
       "2748                                    0.936464       0.816104   \n",
       "2749                                    0.943892       0.825764   \n",
       "2750                                    0.937449       0.816985   \n",
       "2751                                    0.942343       0.814448   \n",
       "2752                                    0.942638       0.822804   \n",
       "\n",
       "Function                                                              \\\n",
       "Band     EEG Fpz-Cz SDR EEG Fpz-Cz BDR EEG Fpz-Cz ATR EEG Fpz-Cz STR   \n",
       "epoch                                                                  \n",
       "2748           0.671722       0.163851       0.871474       0.717296   \n",
       "2749           0.640576       0.153139       0.874851       0.678654   \n",
       "2750           0.673169       0.154376       0.871499       0.718086   \n",
       "2751           0.670839       0.172064       0.864280       0.711885   \n",
       "2752           0.676889       0.183420       0.872874       0.718079   \n",
       "\n",
       "Function                                                              \n",
       "Band     EEG Fpz-Cz BTR EEG Fpz-Cz SAR EEG Fpz-Cz BAR EEG Fpz-Cz BSR  \n",
       "epoch                                                                 \n",
       "2748           0.174968       0.823084       0.200773       0.243927  \n",
       "2749           0.162242       0.775737       0.185451       0.239064  \n",
       "2750           0.164676       0.823967       0.188958       0.229327  \n",
       "2751           0.182592       0.823673       0.211265       0.256491  \n",
       "2752           0.194582       0.822660       0.222921       0.270975  \n",
       "\n",
       "[5 rows x 252 columns]"
      ]
     },
     "execution_count": 2,
     "metadata": {},
     "output_type": "execute_result"
    }
   ],
   "source": [
    "tr_df = pd.read_csv('Analysis_Dataframe.csv', header=[0,1], index_col=[0,1])\n",
    "tr_df.index.names = ['epoch','condition']\n",
    "tr_df.reset_index(level = 1,inplace = True)\n",
    "\n",
    "train_X = tr_df.drop(columns=['condition'])\n",
    "train_Y = tr_df['condition']\n",
    "train_X.head()"
   ]
  },
  {
   "cell_type": "markdown",
   "metadata": {},
   "source": [
    "### Pick Features"
   ]
  },
  {
   "cell_type": "code",
   "execution_count": 3,
   "metadata": {},
   "outputs": [],
   "source": [
    "fn = pd.read_csv('features_name_dataframe.csv',header=0)\n",
    "fn_ = [(i,j) for i,j in zip(fn['function'],fn['band'])]\n",
    "fn.head()\n",
    "train_X = train_X[fn_]"
   ]
  },
  {
   "cell_type": "markdown",
   "metadata": {},
   "source": [
    "# ENCODING & MODEL GENERATING"
   ]
  },
  {
   "cell_type": "markdown",
   "metadata": {},
   "source": [
    "### Testing Epoch and Training Epoch"
   ]
  },
  {
   "cell_type": "code",
   "execution_count": 4,
   "metadata": {},
   "outputs": [
    {
     "name": "stdout",
     "output_type": "stream",
     "text": [
      "Training Subjects Index: [     0   2451   5991   9540  13380  16743  20058  23103  26010  29892\n",
      "  33699  35439  39279  42366  45615  48657  52071  55755  59313  62868\n",
      "  65877  69162  71739  75012  77937  81417  84507  87606  91671  94770\n",
      "  97671 101040]\n",
      "Training Subjects Epoch: [2451 3540 3549 3840 3363 3315 3045 2907 3882 3807 1740 3840 3087 3249\n",
      " 3042 3414 3684 3558 3555 3009 3285 2577 3273 2925 3480 3090 3099 4065\n",
      " 3099 2901 3369]\n",
      "Testing Subjects Index: [    0  2631  5826  9447 11982 15045 17937 21519 26571]\n",
      "Testing Subjects Epoch: [2631 3195 3621 2535 3063 2892 3582 5052]\n"
     ]
    }
   ],
   "source": [
    "# 如果原本設定為 10s/Ep, 則這裡的索引為劃分集中,每個 Subject 開始 epoch的索引。 (10s/Ep)\n",
    "# 如果原本設定為 30s/Ep, 則這裡的索引為劃分集中,每個 Subject 開始 epoch的索引。 (30s/Ep)\n",
    "training_SubsIdx = pd.read_csv('training_block_start_index.csv',header=0).values.flatten()*smoothing_factor\n",
    "training_SubsEps = pd.read_csv('training_records_epochs.csv',header=0).values.flatten()*smoothing_factor\n",
    "testing_SubsIdx = pd.read_csv('testing_block_start_index.csv',header=0).values.flatten()*smoothing_factor\n",
    "testing_SubsEps = pd.read_csv('testing_records_epochs.csv',header=0).values.flatten()*smoothing_factor\n",
    "\n",
    "print('Training Subjects Index:',training_SubsIdx)\n",
    "print('Training Subjects Epoch:',training_SubsEps)\n",
    "print('Testing Subjects Index:',testing_SubsIdx)\n",
    "print('Testing Subjects Epoch:',testing_SubsEps)\n",
    "\n",
    "training_idx = []\n",
    "testing_idx = []\n",
    "idx = 0\n",
    "trainCnt = 0\n",
    "testCnt = 0\n",
    "\n",
    "for i in range(rec_n):\n",
    "    if i in tri:\n",
    "        training_idx.append(\n",
    "            np.arange((idx), (idx + training_SubsEps[trainCnt])).tolist())\n",
    "        idx += training_SubsEps[trainCnt]\n",
    "        trainCnt += 1\n",
    "\n",
    "    elif i in tei:\n",
    "        testing_idx.append(\n",
    "            np.arange((idx), (idx + testing_SubsEps[testCnt])).tolist())\n",
    "        idx += testing_SubsEps[testCnt]\n",
    "        testCnt += 1\n",
    "\n",
    "training_idx = list(chain.from_iterable(training_idx))\n",
    "testing_idx = list(chain.from_iterable(testing_idx))"
   ]
  },
  {
   "cell_type": "markdown",
   "metadata": {},
   "source": [
    "### Label Encoding"
   ]
  },
  {
   "cell_type": "code",
   "execution_count": 5,
   "metadata": {},
   "outputs": [
    {
     "name": "stdout",
     "output_type": "stream",
     "text": [
      "(101040, 20)\n",
      "(26571, 20)\n"
     ]
    }
   ],
   "source": [
    "# Label encoding for toget\n",
    "dataY = LabelEncoder().fit_transform(train_Y)\n",
    "trY = dataY[training_idx]\n",
    "teY = dataY[testing_idx]\n",
    "\n",
    "# Standardization\n",
    "trX = train_X.iloc[training_idx]\n",
    "teX = train_X.iloc[testing_idx]\n",
    "stdScale = StandardScaler().fit(trX)\n",
    "trX = stdScale.fit_transform(trX)\n",
    "teX = stdScale.fit_transform(teX)\n",
    "\n",
    "print(trX.shape)\n",
    "print(teX.shape)"
   ]
  },
  {
   "cell_type": "markdown",
   "metadata": {},
   "source": [
    "# FEATURES SELECTION"
   ]
  },
  {
   "cell_type": "markdown",
   "metadata": {},
   "source": [
    "### Kruskal-wallis"
   ]
  },
  {
   "cell_type": "code",
   "execution_count": 6,
   "metadata": {},
   "outputs": [
    {
     "name": "stdout",
     "output_type": "stream",
     "text": [
      "20\n",
      "(101040, 20)\n",
      "(26571, 20)\n",
      "[('Variance', 'EEG Fpz-Cz'), ('Variance', 'EEG Fpz-Cz Delta'), ('Variance', 'EEG Fpz-Cz Theta'), ('Variance', 'EEG Fpz-Cz Alpha'), ('Variance', 'EEG Fpz-Cz Sigma'), ('Variance', 'EEG Fpz-Cz Beta'), ('Variance', 'EEG Fpz-Cz DOR'), ('Variance', 'EEG Fpz-Cz TOR'), ('Variance', 'EEG Fpz-Cz AOR'), ('Variance', 'EEG Fpz-Cz SOR'), ('Variance', 'EEG Fpz-Cz BOR'), ('Variance', 'EEG Fpz-Cz TDR'), ('Variance', 'EEG Fpz-Cz ADR'), ('Variance', 'EEG Fpz-Cz SDR'), ('Variance', 'EEG Fpz-Cz BDR'), ('Variance', 'EEG Fpz-Cz ATR'), ('Variance', 'EEG Fpz-Cz STR'), ('Variance', 'EEG Fpz-Cz BTR'), ('Variance', 'EEG Fpz-Cz SAR'), ('Variance', 'EEG Fpz-Cz BAR')]\n"
     ]
    }
   ],
   "source": [
    "idx,pvl = Kruskal_Wallis_Selection_Method(data=trX,label=trY, condition=20)\n",
    "\n",
    "idx = list(set(idx))\n",
    "trX = trX[:,idx]\n",
    "teX = teX[:,idx]\n",
    "features_name = [list(tr_df.columns)[i+1] for i in idx]\n",
    "features_name_dataframe = pd.DataFrame(features_name)\n",
    "features_name_dataframe.columns = ['function','band']\n",
    "#features_name_dataframe.to_csv('features_name_dataframe.csv',index=0)\n",
    "print(trX.shape)\n",
    "print(teX.shape)\n",
    "print(features_name)"
   ]
  },
  {
   "cell_type": "markdown",
   "metadata": {},
   "source": [
    "# Generate Model"
   ]
  },
  {
   "cell_type": "code",
   "execution_count": 7,
   "metadata": {},
   "outputs": [],
   "source": [
    "estimator = LinearDiscriminantAnalysis()\n",
    "#estimator = SVC()\n",
    "#estimator = AdaBoostClassifier()\n",
    "#estimator = LogisticRegression()\n",
    "#estimator = GaussianNB()"
   ]
  },
  {
   "cell_type": "markdown",
   "metadata": {},
   "source": [
    "# TRAINING & SAVE MODEL"
   ]
  },
  {
   "cell_type": "code",
   "execution_count": 8,
   "metadata": {},
   "outputs": [],
   "source": [
    "estimator.fit(trX,trY)\n",
    "with open('Automatic sleep staging machine.pickle','wb') as f:\n",
    "     pickle.dump(estimator, f)"
   ]
  },
  {
   "cell_type": "markdown",
   "metadata": {},
   "source": [
    "# CALL MODEL"
   ]
  },
  {
   "cell_type": "code",
   "execution_count": 9,
   "metadata": {},
   "outputs": [],
   "source": [
    "font_title = {'family': 'Times New Roman', 'weight': 'normal', 'size': 24}\n",
    "font_tick = {'family': 'Times New Roman', 'weight': 'normal', 'size': 18}\n",
    "\n",
    "def Sleep_periodogram(pred):\n",
    "    plt.figure(figsize=(10, 2))\n",
    "    plt.plot(range(0,len(pred)),pred)\n",
    "    plt.xlabel('Epoch',fontdict=font_tick)\n",
    "    plt.ylabel('Stage',fontdict=font_tick)\n",
    "    plt.yticks([4, 3, 2, 1, 0], ['W', 'REM', 'S1', 'S2', 'SWS'],fontproperties = 'Times New Roman', size = 14)\n",
    "    #plt.savefig('sleep periodogram 1.tif')"
   ]
  },
  {
   "cell_type": "code",
   "execution_count": 10,
   "metadata": {
    "scrolled": true
   },
   "outputs": [],
   "source": [
    "pickle_in = open('Automatic sleep staging machine.pickle', 'rb')\n",
    "estimator = pickle.load(pickle_in)\n",
    "score = estimator.decision_function(teX)\n",
    "basline_pred = estimator.predict(teX)\n",
    "n = len(teX)"
   ]
  },
  {
   "cell_type": "markdown",
   "metadata": {},
   "source": [
    "### Base line"
   ]
  },
  {
   "cell_type": "code",
   "execution_count": 11,
   "metadata": {},
   "outputs": [
    {
     "name": "stdout",
     "output_type": "stream",
     "text": [
      "              precision    recall  f1-score   support\n",
      "\n",
      "           0       0.24      0.09      0.13      1038\n",
      "           1       0.80      0.83      0.82      9990\n",
      "           2       0.77      0.74      0.75      3300\n",
      "           3       0.68      0.73      0.71      4752\n",
      "           4       0.88      0.87      0.88      7491\n",
      "\n",
      "    accuracy                           0.79     26571\n",
      "   macro avg       0.67      0.65      0.66     26571\n",
      "weighted avg       0.77      0.79      0.78     26571\n",
      "\n",
      "[[  92   18    1   75  194]\n",
      " [ 289 8320  709  875  227]\n",
      " [  17  666 2448   30   38]\n",
      " [ 410  719   13 3492  486]\n",
      " [ 230  267  129  280 6546]]\n",
      "0.7049099601983626\n"
     ]
    },
    {
     "data": {
      "image/png": "[encoded data removed]",
      "text/plain": [
       "<Figure size 720x144 with 1 Axes>"
      ]
     },
     "metadata": {
      "needs_background": "light"
     },
     "output_type": "display_data"
    }
   ],
   "source": [
    "print(classification_report(y_pred=basline_pred, y_true=teY))\n",
    "print(confusion_matrix(y_true=basline_pred, y_pred=teY))\n",
    "print(cohen_kappa_score(basline_pred, teY))\n",
    "Sleep_periodogram(basline_pred)"
   ]
  },
  {
   "cell_type": "markdown",
   "metadata": {},
   "source": [
    "### Decision function smoothing"
   ]
  },
  {
   "cell_type": "code",
   "execution_count": 12,
   "metadata": {
    "scrolled": false
   },
   "outputs": [
    {
     "name": "stdout",
     "output_type": "stream",
     "text": [
      "              precision    recall  f1-score   support\n",
      "\n",
      "           0       0.39      0.09      0.14       346\n",
      "           1       0.85      0.90      0.87      3330\n",
      "           2       0.87      0.81      0.84      1100\n",
      "           3       0.77      0.82      0.80      1584\n",
      "           4       0.92      0.92      0.92      2497\n",
      "\n",
      "    accuracy                           0.85      8857\n",
      "   macro avg       0.76      0.71      0.71      8857\n",
      "weighted avg       0.84      0.85      0.84      8857\n",
      "\n",
      "[[  30  105    2  137   72]\n",
      " [   2 3008  132  134   54]\n",
      " [   0  179  888    1   32]\n",
      " [   4  224    0 1302   54]\n",
      " [  41   42    0  112 2302]]\n",
      "0.7919758064623181\n"
     ]
    },
    {
     "data": {
      "image/png": "[encoded data removed]",
      "text/plain": [
       "<Figure size 720x144 with 1 Axes>"
      ]
     },
     "metadata": {
      "needs_background": "light"
     },
     "output_type": "display_data"
    }
   ],
   "source": [
    "pred1, label , score = smoothing(estimator=estimator, score=score, n=n, label=teY)\n",
    "print(classification_report(y_pred=pred1, y_true=label))\n",
    "print(confusion_matrix(y_true=label, y_pred=pred1))\n",
    "print(cohen_kappa_score(pred1, label))\n",
    "Sleep_periodogram(pred1)"
   ]
  },
  {
   "cell_type": "markdown",
   "metadata": {},
   "source": [
    "### Adaptive mode filter Smoothing"
   ]
  },
  {
   "cell_type": "code",
   "execution_count": 13,
   "metadata": {},
   "outputs": [
    {
     "name": "stdout",
     "output_type": "stream",
     "text": [
      "              precision    recall  f1-score   support\n",
      "\n",
      "           0       0.35      0.05      0.09       346\n",
      "           1       0.84      0.92      0.88      3330\n",
      "           2       0.89      0.80      0.84      1100\n",
      "           3       0.81      0.87      0.84      1584\n",
      "           4       0.95      0.94      0.95      2497\n",
      "\n",
      "    accuracy                           0.87      8857\n",
      "   macro avg       0.77      0.72      0.72      8857\n",
      "weighted avg       0.85      0.87      0.86      8857\n",
      "\n",
      "[[  19  130    2  135   60]\n",
      " [   1 3072  101  124   32]\n",
      " [   0  214  877    0    9]\n",
      " [   1  192    0 1374   17]\n",
      " [  34   49    0   63 2351]]\n",
      "0.8169471150346239\n"
     ]
    },
    {
     "data": {
      "image/png": "[encoded data removed]",
      "text/plain": [
       "<Figure size 720x144 with 1 Axes>"
      ]
     },
     "metadata": {
      "needs_background": "light"
     },
     "output_type": "display_data"
    }
   ],
   "source": [
    "pred2 = smoothingII(pred1)\n",
    "print(classification_report(y_pred=pred2, y_true=label))\n",
    "print(confusion_matrix(y_true=label, y_pred=pred2))\n",
    "print(cohen_kappa_score(pred2, label))\n",
    "Sleep_periodogram(pred2)"
   ]
  }
 ],
 "metadata": {
  "kernelspec": {
   "display_name": "Python 3",
   "language": "python",
   "name": "python3"
  },
  "language_info": {
   "codemirror_mode": {
    "name": "ipython",
    "version": 3
   },
   "file_extension": ".py",
   "mimetype": "text/x-python",
   "name": "python",
   "nbconvert_exporter": "python",
   "pygments_lexer": "ipython3",
   "version": "3.7.4"
  }
 },
 "nbformat": 4,
 "nbformat_minor": 2
}
