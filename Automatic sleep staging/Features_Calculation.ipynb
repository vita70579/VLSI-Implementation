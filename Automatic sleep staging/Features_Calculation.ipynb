{
 "cells": [
  {
   "cell_type": "code",
   "execution_count": 1,
   "metadata": {},
   "outputs": [
    {
     "name": "stderr",
     "output_type": "stream",
     "text": [
      "C:\\Users\\vita7\\Anaconda3\\lib\\site-packages\\sklearn\\externals\\joblib\\__init__.py:15: DeprecationWarning: sklearn.externals.joblib is deprecated in 0.21 and will be removed in 0.23. Please import this functionality directly from joblib, which can be installed with: pip install joblib. If this warning is raised when loading pickled models, you may need to re-serialize those models with scikit-learn 0.21+.\n",
      "  warnings.warn(msg, category=DeprecationWarning)\n"
     ]
    }
   ],
   "source": [
    "%run Package_AND_Parameter.ipynb"
   ]
  },
  {
   "cell_type": "code",
   "execution_count": 2,
   "metadata": {},
   "outputs": [],
   "source": [
    "def AutoCorr(data, k=1):\n",
    "\n",
    "    data = data.values\n",
    "    m = np.mean(data)\n",
    "    N = len(data)\n",
    "\n",
    "    res = np.sum([(data[i + k] - m) * (data[i] - m)\n",
    "                  for i in range(N - k)]) / np.sum([(data[i + k] - m)**(2)\n",
    "                                                    for i in range(N - k)])\n",
    "    return res\n",
    "\n",
    "\n",
    "def Power(data, sfreq):\n",
    "\n",
    "    data = data.values\n",
    "    freq, psd = signal.welch(data, sfreq)\n",
    "\n",
    "    return sum(psd)\n",
    "\n",
    "\n",
    "def Mean_frequency(data, sfreq=100):\n",
    "\n",
    "    data = data.values\n",
    "    freq, psd = signal.welch(data, sfreq)\n",
    "\n",
    "    return np.dot(freq, psd) / sum(psd)\n",
    "\n",
    "\n",
    "def Spect_slope(data, sfreq=100):\n",
    "\n",
    "    data = data.values\n",
    "    freq, psd = signal.welch(data, sfreq)\n",
    "    slope, intercept, r_value, p_value, slope_std_error = stats.linregress(\n",
    "        freq, psd)\n",
    "\n",
    "    return slope\n",
    "\n",
    "\n",
    "def AR_Coe(data, p=8):\n",
    "\n",
    "    data = data.values\n",
    "    N = len(data)\n",
    "\n",
    "    Y = data[p:]\n",
    "    X = []\n",
    "\n",
    "    for i in range(0, N - p):\n",
    "        a = data[i:i + p]\n",
    "        a = a[::-1]\n",
    "        X.append(a)\n",
    "\n",
    "    X = np.array(X)\n",
    "\n",
    "    a = np.dot(np.dot(np.linalg.inv(np.dot((X.T), X)), X.T), Y)\n",
    "\n",
    "    return a\n",
    "\n",
    "\n",
    "def MultiScale_SampleEntropy(data, cg_factor=5, order=3):\n",
    "\n",
    "    data = data.values\n",
    "    N = len(data)\n",
    "    res = []\n",
    "\n",
    "    for i in range(0, cg_factor - 1, 2):\n",
    "        cg_data = [\n",
    "            data[j:j + (cg_factor - i)].mean()\n",
    "            for j in range(0, N, (cg_factor - i))\n",
    "        ]\n",
    "        en = sample_entropy(cg_data, order=order)\n",
    "        res.append(en)\n",
    "\n",
    "        del cg_data, en, i\n",
    "    gc.collect()\n",
    "\n",
    "    return np.array(res[::-1])"
   ]
  }
 ],
 "metadata": {
  "kernelspec": {
   "display_name": "Python 3",
   "language": "python",
   "name": "python3"
  },
  "language_info": {
   "codemirror_mode": {
    "name": "ipython",
    "version": 3
   },
   "file_extension": ".py",
   "mimetype": "text/x-python",
   "name": "python",
   "nbconvert_exporter": "python",
   "pygments_lexer": "ipython3",
   "version": "3.7.4"
  }
 },
 "nbformat": 4,
 "nbformat_minor": 2
}
